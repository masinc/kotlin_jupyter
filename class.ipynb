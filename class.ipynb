{
 "cells": [
  {
   "cell_type": "code",
   "execution_count": 41,
   "metadata": {},
   "outputs": [
    {
     "name": "stdout",
     "output_type": "stream",
     "text": [
      "hello Singleton"
     ]
    },
    {
     "data": {
      "text/plain": [
       "null"
      ]
     },
     "execution_count": 41,
     "metadata": {},
     "output_type": "execute_result"
    }
   ],
   "source": [
    "//Singleton Class\n",
    "object Singleton{\n",
    "    fun mes() = print(\"hello Singleton\")\n",
    "}\n",
    "Singleton.mes()"
   ]
  },
  {
   "cell_type": "code",
   "execution_count": 11,
   "metadata": {},
   "outputs": [
    {
     "ename": "error",
     "evalue": " expression 'Singleton' of type 'Line_8.Singleton' cannot be invoked as a function. The function 'invoke()' is not found",
     "output_type": "error",
     "traceback": [
      "\u001b[1;31merror: expression 'Singleton' of type 'Line_8.Singleton' cannot be invoked as a function. The function 'invoke()' is not found\u001b[0;0m",
      "\u001b[1;31mSingleton()\u001b[0;0m",
      "\u001b[1;31m^\u001b[0;0m"
     ]
    }
   ],
   "source": [
    "Singleton()"
   ]
  },
  {
   "cell_type": "code",
   "execution_count": 42,
   "metadata": {},
   "outputs": [
    {
     "data": {
      "text/plain": [
       "null"
      ]
     },
     "execution_count": 42,
     "metadata": {},
     "output_type": "execute_result"
    }
   ],
   "source": [
    "//Multiple Extends\n",
    "interface IA{\n",
    "    fun mes() = print(\"hello from IA\")\n",
    "}\n",
    "interface IB{\n",
    "    fun mes() = print(\"hello from IB\")\n",
    "}"
   ]
  },
  {
   "cell_type": "code",
   "execution_count": 14,
   "metadata": {
    "scrolled": true
   },
   "outputs": [
    {
     "name": "stdout",
     "output_type": "stream",
     "text": [
      "hello from IA"
     ]
    },
    {
     "data": {
      "text/plain": [
       "null"
      ]
     },
     "execution_count": 14,
     "metadata": {},
     "output_type": "execute_result"
    }
   ],
   "source": [
    "class CA: IA{\n",
    "}\n",
    "CA().mes()"
   ]
  },
  {
   "cell_type": "code",
   "execution_count": 18,
   "metadata": {},
   "outputs": [
    {
     "ename": "error",
     "evalue": " class 'CB' must override public open fun mes()",
     "output_type": "error",
     "traceback": [
      "\u001b[1;31merror: class 'CB' must override public open fun mes(): Unit defined in Line_13.IA because it inherits multiple interface methods of it\u001b[0;0m",
      "\u001b[1;31mclass CB : IA, IB{\u001b[0;0m",
      "\u001b[1;31m^\u001b[0;0m"
     ]
    }
   ],
   "source": [
    "class CB : IA, IB{\n",
    "}"
   ]
  },
  {
   "cell_type": "code",
   "execution_count": 37,
   "metadata": {},
   "outputs": [
    {
     "name": "stdout",
     "output_type": "stream",
     "text": [
      "hello from IA\n",
      "hello from IB"
     ]
    },
    {
     "data": {
      "text/plain": [
       "null"
      ]
     },
     "execution_count": 37,
     "metadata": {},
     "output_type": "execute_result"
    }
   ],
   "source": [
    "class CB : IA, IB{\n",
    "    override fun mes(){\n",
    "        super<IA>.mes()\n",
    "        println(\"\")\n",
    "        super<IB>.mes()\n",
    "    }\n",
    "}\n",
    "\n",
    "CB().mes()"
   ]
  },
  {
   "cell_type": "code",
   "execution_count": 40,
   "metadata": {},
   "outputs": [
    {
     "name": "stdout",
     "output_type": "stream",
     "text": [
      "CInit init\n"
     ]
    },
    {
     "data": {
      "text/plain": [
       "Line_40$CInit@22f51b6c"
      ]
     },
     "execution_count": 40,
     "metadata": {},
     "output_type": "execute_result"
    }
   ],
   "source": [
    "//kotlin initializer\n",
    "class CInit{\n",
    "  init{\n",
    "    println(\"CInit init\")\n",
    "  }\n",
    "}\n",
    "CInit()"
   ]
  }
 ],
 "metadata": {
  "kernelspec": {
   "display_name": "Kotlin",
   "language": "kotlin",
   "name": "kotlin"
  },
  "language_info": {
   "codemirror_mode": "kotlin",
   "file_extension": ".kt",
   "mimetype": "",
   "name": "Kotlin",
   "nbconverter_exporter": "",
   "version": "1.2.21"
  },
  "toc": {
   "base_numbering": 1,
   "nav_menu": {},
   "number_sections": false,
   "sideBar": false,
   "skip_h1_title": false,
   "title_cell": "Table of Contents",
   "title_sidebar": "Contents",
   "toc_cell": false,
   "toc_position": {},
   "toc_section_display": false,
   "toc_window_display": false
  }
 },
 "nbformat": 4,
 "nbformat_minor": 2
}
